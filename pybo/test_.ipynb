{
 "cells": [
  {
   "cell_type": "code",
   "execution_count": 1,
   "metadata": {},
   "outputs": [
    {
     "data": {
      "text/plain": [
       "<All keys matched successfully>"
      ]
     },
     "execution_count": 1,
     "metadata": {},
     "output_type": "execute_result"
    }
   ],
   "source": [
    "import torch\n",
    "import numpy as np\n",
    "import csv\n",
    "import pandas as pd\n",
    "from tc_learn import *\n",
    "\n",
    "model = Net()\n",
    "\n",
    "checkpoint = torch.load('./model/DNN_model.pt')\n",
    "model.load_state_dict(checkpoint['model'])\n",
    "\n",
    "# str = torch.Tensor([-0.332102407,2.325789922,0.620879471,0.336402609,-0.042428026,-0.036377326,-0.033060542])\n",
    "# result = model(str)\n",
    "# print(result)"
   ]
  },
  {
   "cell_type": "code",
   "execution_count": 2,
   "metadata": {},
   "outputs": [
    {
     "data": {
      "text/plain": [
       "<torch._C.Generator at 0x235ae7b0330>"
      ]
     },
     "execution_count": 2,
     "metadata": {},
     "output_type": "execute_result"
    }
   ],
   "source": [
    "movie_path = \"./data/bit_data_zscore_tier.csv\"\n",
    "movieq_numpy = pd.read_csv(movie_path, delimiter=\",\", encoding= 'cp949')\n",
    "col_list = next(csv.reader(open(movie_path), delimiter=','))\n",
    "mov = movieq_numpy[['genre','rating','country','score','company','writer','director','hit rate','zscore','robust','minmax','tier']]\n",
    "movieq = torch.from_numpy(mov.values).float()\n",
    "torch.manual_seed(1)"
   ]
  },
  {
   "cell_type": "code",
   "execution_count": 10,
   "metadata": {},
   "outputs": [
    {
     "data": {
      "text/plain": [
       "tensor(0.1475)"
      ]
     },
     "execution_count": 10,
     "metadata": {},
     "output_type": "execute_result"
    }
   ],
   "source": [
    "data = movieq[:,:-5]\n",
    "target = movieq[:,-1]\n",
    "\n",
    "predict = model(data)\n",
    "for i in range(5416):\n",
    "    predict[i] = round(predict[i].item())\n",
    "\n",
    "predict.squeeze_(1)\n",
    "\n",
    "correct = torch.zeros(5416,dtype=torch.bool)\n",
    "for i in range(5416):\n",
    "    if predict[i] == target[i]:\n",
    "        correct[i] = True\n",
    "\n",
    "sum = correct.sum(dim=0)\n",
    "sum/5416"
   ]
  },
  {
   "cell_type": "code",
   "execution_count": 11,
   "metadata": {},
   "outputs": [],
   "source": [
    "W = torch.Tensor([[1.1432, 0.9258, 0.8426, 0.8354, 0.8311],\n",
    "                     [0.9211, 0.9496, 0.9636, 1.0065, 1.1431],\n",
    "                      [1.0667, 1.6569, 0.9356, 0.4278, 0.3309],\n",
    "                      [0.9891, 1.0194, 1.0133, 0.9847, 0.9710],\n",
    "                      [1.8983, 0.1123, 0.1053, 1.8552, 0.3555],\n",
    "                      [1.8921, 1.8494, 0.1108, 0.1072, 0.1060],\n",
    "                      [1.8987, 0.1117, 0.1043, 0.9887, 0.0963]])\n",
    "b = torch.Tensor([0.3324])\n",
    "\n",
    "hypothesis = F.softmax(data.matmul(W) + b, dim=1)"
   ]
  },
  {
   "cell_type": "code",
   "execution_count": 12,
   "metadata": {},
   "outputs": [],
   "source": [
    "target_one_hot = torch.zeros(5416,5,dtype=torch.float)\n",
    "\n",
    "for i in range(5416):\n",
    "    target_one_hot[i][int(target[i])-1] = 1"
   ]
  },
  {
   "cell_type": "code",
   "execution_count": 19,
   "metadata": {},
   "outputs": [
    {
     "data": {
      "text/plain": [
       "tensor(0.3098)"
      ]
     },
     "execution_count": 19,
     "metadata": {},
     "output_type": "execute_result"
    }
   ],
   "source": [
    "correct = torch.ones(5416,dtype=torch.bool)\n",
    "\n",
    "for i in range(5416):\n",
    "    maxval = max(hypothesis[i])\n",
    "    for j in range(5):\n",
    "        if hypothesis[i][j] == maxval:\n",
    "            hypothesis[i][j] = 1\n",
    "        else:\n",
    "            hypothesis[i][j] = 0\n",
    "\n",
    "for i in range(5416):\n",
    "    for j in range(5):\n",
    "        if target_one_hot[i][j] != hypothesis[i][j]:\n",
    "            correct[i] = False\n",
    "            break\n",
    "\n",
    "sum = correct.sum(0)\n",
    "sum/5416"
   ]
  }
 ],
 "metadata": {
  "interpreter": {
   "hash": "247ab06e135bb35fa78c5eff31b2a9a0050dcb5fb773c2631d2a29ac689eeccb"
  },
  "kernelspec": {
   "display_name": "Python 3.9.7 64-bit",
   "name": "python3"
  },
  "language_info": {
   "codemirror_mode": {
    "name": "ipython",
    "version": 3
   },
   "file_extension": ".py",
   "mimetype": "text/x-python",
   "name": "python",
   "nbconvert_exporter": "python",
   "pygments_lexer": "ipython3",
   "version": "3.9.7"
  },
  "orig_nbformat": 4
 },
 "nbformat": 4,
 "nbformat_minor": 2
}
