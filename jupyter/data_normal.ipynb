{
 "cells": [
  {
   "cell_type": "code",
   "execution_count": 3,
   "metadata": {},
   "outputs": [
    {
     "data": {
      "text/plain": [
       "array([76.76, 21.13,  4.3 ,  3.99,  3.72,  3.64,  3.13,  2.93,  2.81,\n",
       "        2.71,  2.52,  2.34,  2.  ,  0.99,  0.93])"
      ]
     },
     "execution_count": 3,
     "metadata": {},
     "output_type": "execute_result"
    }
   ],
   "source": [
    "import pandas as pd\n",
    "import scipy.stats as ss\n",
    "from sklearn.preprocessing import StandardScaler\n",
    "from sklearn.preprocessing import RobustScaler\n",
    "from sklearn.preprocessing import MinMaxScaler\n",
    "\n",
    "dfg = pd.read_csv('../csv_/genre.csv')\n",
    "\n",
    "a = dfg['1'].to_numpy()\n",
    "a"
   ]
  },
  {
   "cell_type": "code",
   "execution_count": 4,
   "metadata": {},
   "outputs": [],
   "source": [
    "import numpy as np\n",
    "\n",
    "b = a.reshape(-1,1)\n",
    "scaler = StandardScaler()\n",
    "scaler.fit(b)\n",
    "c = scaler.transform(b)"
   ]
  },
  {
   "cell_type": "code",
   "execution_count": 5,
   "metadata": {},
   "outputs": [],
   "source": [
    "scaler2 = RobustScaler()\n",
    "scaler2.fit(b)\n",
    "\n",
    "d = scaler2.transform(b)"
   ]
  },
  {
   "cell_type": "code",
   "execution_count": 6,
   "metadata": {},
   "outputs": [],
   "source": [
    "scaler2 = MinMaxScaler()\n",
    "scaler2.fit(b)\n",
    "\n",
    "e = scaler2.transform(b)"
   ]
  },
  {
   "cell_type": "code",
   "execution_count": 7,
   "metadata": {},
   "outputs": [],
   "source": [
    "dfg['zscore'] = c"
   ]
  },
  {
   "cell_type": "code",
   "execution_count": 8,
   "metadata": {},
   "outputs": [],
   "source": [
    "dfg['robust'] = d"
   ]
  },
  {
   "cell_type": "code",
   "execution_count": 9,
   "metadata": {},
   "outputs": [],
   "source": [
    "dfg['minmax'] = e"
   ]
  },
  {
   "cell_type": "code",
   "execution_count": 10,
   "metadata": {},
   "outputs": [],
   "source": [
    "dfg.to_csv('../csv2_/genre_nm.csv')"
   ]
  },
  {
   "cell_type": "code",
   "execution_count": 11,
   "metadata": {},
   "outputs": [],
   "source": [
    "df = pd.read_csv('../csv_/company.csv')\n",
    "\n",
    "a = df['1'].to_numpy()\n",
    "b = a.reshape(-1,1)\n",
    "\n",
    "scaler = StandardScaler()\n",
    "scaler.fit(b)\n",
    "c = scaler.transform(b)\n",
    "\n",
    "scaler2 = RobustScaler()\n",
    "scaler2.fit(b)\n",
    "d = scaler2.transform(b)\n",
    "\n",
    "scaler3 = MinMaxScaler()\n",
    "scaler3.fit(b)\n",
    "e = scaler3.transform(b)\n",
    "\n",
    "df['zscore'] = c\n",
    "df['robust'] = d\n",
    "df['minmax'] = e\n",
    "df.to_csv('../csv2_/company_nm1.csv')\n",
    "\n"
   ]
  },
  {
   "cell_type": "code",
   "execution_count": 12,
   "metadata": {},
   "outputs": [],
   "source": [
    "df = pd.read_csv('../csv_/country.csv')\n",
    "\n",
    "\n",
    "a = df['1'].to_numpy()\n",
    "b = a.reshape(-1,1)\n",
    "\n",
    "scaler = StandardScaler()\n",
    "scaler.fit(b)\n",
    "c = scaler.transform(b)\n",
    "\n",
    "scaler2 = RobustScaler()\n",
    "scaler2.fit(b)\n",
    "d = scaler2.transform(b)\n",
    "\n",
    "scaler3 = MinMaxScaler()\n",
    "scaler3.fit(b)\n",
    "e = scaler3.transform(b)\n",
    "\n",
    "df['zscore'] = c\n",
    "df['robust'] = d\n",
    "df['minmax'] = e\n",
    "df.to_csv('../csv2_/country_nm1.csv')\n",
    "\n"
   ]
  },
  {
   "cell_type": "code",
   "execution_count": 13,
   "metadata": {},
   "outputs": [],
   "source": [
    "df = pd.read_csv('../csv_/director.csv')\n",
    "\n",
    "\n",
    "a = df['1'].to_numpy()\n",
    "b = a.reshape(-1,1)\n",
    "\n",
    "scaler = StandardScaler()\n",
    "scaler.fit(b)\n",
    "c = scaler.transform(b)\n",
    "\n",
    "scaler2 = RobustScaler()\n",
    "scaler2.fit(b)\n",
    "d = scaler2.transform(b)\n",
    "\n",
    "scaler3 = MinMaxScaler()\n",
    "scaler3.fit(b)\n",
    "e = scaler3.transform(b)\n",
    "\n",
    "df['zscore'] = c\n",
    "df['robust'] = d\n",
    "df['minmax'] = e\n",
    "df.to_csv('../csv2_/director_nm1.csv')\n",
    "\n"
   ]
  },
  {
   "cell_type": "code",
   "execution_count": 14,
   "metadata": {},
   "outputs": [],
   "source": [
    "df = pd.read_csv('../csv_/rating.csv')\n",
    "\n",
    "a = df['1'].to_numpy()\n",
    "b = a.reshape(-1,1)\n",
    "\n",
    "scaler = StandardScaler()\n",
    "scaler.fit(b)\n",
    "c = scaler.transform(b)\n",
    "\n",
    "scaler2 = RobustScaler()\n",
    "scaler2.fit(b)\n",
    "d = scaler2.transform(b)\n",
    "\n",
    "scaler3 = MinMaxScaler()\n",
    "scaler3.fit(b)\n",
    "e = scaler3.transform(b)\n",
    "\n",
    "df['zscore'] = c\n",
    "df['robust'] = d\n",
    "df['minmax'] = e\n",
    "df.to_csv('../csv2_/rating_nm1.csv')\n",
    "\n"
   ]
  },
  {
   "cell_type": "code",
   "execution_count": 15,
   "metadata": {},
   "outputs": [],
   "source": [
    "df = pd.read_csv('../csv_/score.csv')\n",
    "\n",
    "a = df['1'].to_numpy()\n",
    "b = a.reshape(-1,1)\n",
    "\n",
    "scaler = StandardScaler()\n",
    "scaler.fit(b)\n",
    "c = scaler.transform(b)\n",
    "\n",
    "scaler2 = RobustScaler()\n",
    "scaler2.fit(b)\n",
    "d = scaler2.transform(b)\n",
    "\n",
    "scaler3 = MinMaxScaler()\n",
    "scaler3.fit(b)\n",
    "e = scaler3.transform(b)\n",
    "\n",
    "df['zscore'] = c\n",
    "df['robust'] = d\n",
    "df['minmax'] = e\n",
    "df.to_csv('../csv2_/score_nm1.csv')\n",
    "\n"
   ]
  },
  {
   "cell_type": "code",
   "execution_count": 16,
   "metadata": {},
   "outputs": [],
   "source": [
    "df = pd.read_csv('../csv_/writer.csv')\n",
    "\n",
    "\n",
    "a = df['1'].to_numpy()\n",
    "b = a.reshape(-1,1)\n",
    "\n",
    "scaler = StandardScaler()\n",
    "scaler.fit(b)\n",
    "c = scaler.transform(b)\n",
    "\n",
    "scaler2 = RobustScaler()\n",
    "scaler2.fit(b)\n",
    "d = scaler2.transform(b)\n",
    "\n",
    "scaler3 = MinMaxScaler()\n",
    "scaler3.fit(b)\n",
    "e = scaler3.transform(b)\n",
    "\n",
    "df['zscore'] = c\n",
    "df['robust'] = d\n",
    "df['minmax'] = e\n",
    "df.to_csv('../csv2_/writer_nm1.csv')\n",
    "\n"
   ]
  },
  {
   "cell_type": "code",
   "execution_count": 26,
   "metadata": {},
   "outputs": [],
   "source": [
    "df = pd.read_csv('../csv_/movies.csv')\n",
    "df1 = df.dropna()"
   ]
  },
  {
   "cell_type": "code",
   "execution_count": 28,
   "metadata": {},
   "outputs": [],
   "source": [
    "df1.to_csv('../csv_/movies_dropna1.csv', index=False)"
   ]
  },
  {
   "cell_type": "code",
   "execution_count": 33,
   "metadata": {},
   "outputs": [
    {
     "name": "stderr",
     "output_type": "stream",
     "text": [
      "C:\\Users\\INYUP\\AppData\\Local\\Temp/ipykernel_70132/1067322885.py:1: SettingWithCopyWarning: \n",
      "A value is trying to be set on a copy of a slice from a DataFrame.\n",
      "Try using .loc[row_indexer,col_indexer] = value instead\n",
      "\n",
      "See the caveats in the documentation: https://pandas.pydata.org/pandas-docs/stable/user_guide/indexing.html#returning-a-view-versus-a-copy\n",
      "  df1['hit rate'] = df1['gross']/df1['budget']\n"
     ]
    }
   ],
   "source": [
    "df1['hit rate'] = df1['gross']/df1['budget']"
   ]
  },
  {
   "cell_type": "code",
   "execution_count": 30,
   "metadata": {},
   "outputs": [
    {
     "data": {
      "text/plain": [
       "R            3697\n",
       "PG-13        2112\n",
       "PG           1252\n",
       "Not Rated     283\n",
       "G             153\n",
       "Unrated        52\n",
       "NC-17          23\n",
       "TV-MA           9\n",
       "TV-PG           5\n",
       "X               3\n",
       "Approved        1\n",
       "TV-14           1\n",
       "Name: rating, dtype: int64"
      ]
     },
     "execution_count": 30,
     "metadata": {},
     "output_type": "execute_result"
    }
   ],
   "source": [
    "df['rating'].value_counts()"
   ]
  },
  {
   "cell_type": "code",
   "execution_count": 31,
   "metadata": {},
   "outputs": [
    {
     "data": {
      "text/plain": [
       "R            2597\n",
       "PG-13        1729\n",
       "PG            907\n",
       "G             111\n",
       "Not Rated      44\n",
       "Unrated        17\n",
       "NC-17          12\n",
       "TV-MA           2\n",
       "Approved        1\n",
       "X               1\n",
       "Name: rating, dtype: int64"
      ]
     },
     "execution_count": 31,
     "metadata": {},
     "output_type": "execute_result"
    }
   ],
   "source": [
    "# rating 다시 만들기\n",
    "df1['rating'].value_counts()"
   ]
  },
  {
   "cell_type": "code",
   "execution_count": 36,
   "metadata": {},
   "outputs": [],
   "source": [
    "df2 = df1.groupby('rating')['hit rate'].mean()"
   ]
  },
  {
   "cell_type": "code",
   "execution_count": 37,
   "metadata": {},
   "outputs": [],
   "source": [
    "# G : 모든 연령층\n",
    "# PG: 보호자 동반\n",
    "# PG-13 : 13세미만 부적절, 보호자 동반\n",
    "# R : 18세 미만 부적절, 보호자 동반\n",
    "# NC-17:18세 미만은 관람 불가\n",
    "df2.to_csv('../csv_/rating1.csv')"
   ]
  },
  {
   "cell_type": "code",
   "execution_count": 54,
   "metadata": {},
   "outputs": [
    {
     "name": "stdout",
     "output_type": "stream",
     "text": [
      "<class 'pandas.core.frame.DataFrame'>\n",
      "RangeIndex: 5420 entries, 0 to 5419\n",
      "Data columns (total 2 columns):\n",
      " #   Column   Non-Null Count  Dtype  \n",
      "---  ------   --------------  -----  \n",
      " 0   real     5420 non-null   float64\n",
      " 1   predict  5420 non-null   float64\n",
      "dtypes: float64(2)\n",
      "memory usage: 84.8 KB\n"
     ]
    }
   ],
   "source": [
    "df = pd.read_csv('../csv2_/final_real.csv')\n",
    "df.info()"
   ]
  },
  {
   "cell_type": "code",
   "execution_count": 55,
   "metadata": {},
   "outputs": [],
   "source": [
    "df['error'] = (df['real']-df['predict']).abs()"
   ]
  },
  {
   "cell_type": "code",
   "execution_count": 56,
   "metadata": {},
   "outputs": [
    {
     "data": {
      "text/html": [
       "<div>\n",
       "<style scoped>\n",
       "    .dataframe tbody tr th:only-of-type {\n",
       "        vertical-align: middle;\n",
       "    }\n",
       "\n",
       "    .dataframe tbody tr th {\n",
       "        vertical-align: top;\n",
       "    }\n",
       "\n",
       "    .dataframe thead th {\n",
       "        text-align: right;\n",
       "    }\n",
       "</style>\n",
       "<table border=\"1\" class=\"dataframe\">\n",
       "  <thead>\n",
       "    <tr style=\"text-align: right;\">\n",
       "      <th></th>\n",
       "      <th>real</th>\n",
       "      <th>predict</th>\n",
       "      <th>error</th>\n",
       "    </tr>\n",
       "  </thead>\n",
       "  <tbody>\n",
       "    <tr>\n",
       "      <th>0</th>\n",
       "      <td>13.08</td>\n",
       "      <td>4.040982</td>\n",
       "      <td>9.039018</td>\n",
       "    </tr>\n",
       "    <tr>\n",
       "      <th>1</th>\n",
       "      <td>29.91</td>\n",
       "      <td>22.630503</td>\n",
       "      <td>7.279497</td>\n",
       "    </tr>\n",
       "    <tr>\n",
       "      <th>2</th>\n",
       "      <td>23.84</td>\n",
       "      <td>7.490557</td>\n",
       "      <td>16.349443</td>\n",
       "    </tr>\n",
       "    <tr>\n",
       "      <th>3</th>\n",
       "      <td>6.64</td>\n",
       "      <td>2.593899</td>\n",
       "      <td>4.046101</td>\n",
       "    </tr>\n",
       "    <tr>\n",
       "      <th>4</th>\n",
       "      <td>72.28</td>\n",
       "      <td>18.486149</td>\n",
       "      <td>53.793851</td>\n",
       "    </tr>\n",
       "    <tr>\n",
       "      <th>...</th>\n",
       "      <td>...</td>\n",
       "      <td>...</td>\n",
       "      <td>...</td>\n",
       "    </tr>\n",
       "    <tr>\n",
       "      <th>5415</th>\n",
       "      <td>4.74</td>\n",
       "      <td>3.970906</td>\n",
       "      <td>0.769094</td>\n",
       "    </tr>\n",
       "    <tr>\n",
       "      <th>5416</th>\n",
       "      <td>3.76</td>\n",
       "      <td>4.111771</td>\n",
       "      <td>0.351771</td>\n",
       "    </tr>\n",
       "    <tr>\n",
       "      <th>5417</th>\n",
       "      <td>1.40</td>\n",
       "      <td>1.131997</td>\n",
       "      <td>0.268003</td>\n",
       "    </tr>\n",
       "    <tr>\n",
       "      <th>5418</th>\n",
       "      <td>0.82</td>\n",
       "      <td>0.624229</td>\n",
       "      <td>0.195771</td>\n",
       "    </tr>\n",
       "    <tr>\n",
       "      <th>5419</th>\n",
       "      <td>5.77</td>\n",
       "      <td>5.653449</td>\n",
       "      <td>0.116551</td>\n",
       "    </tr>\n",
       "  </tbody>\n",
       "</table>\n",
       "<p>5420 rows × 3 columns</p>\n",
       "</div>"
      ],
      "text/plain": [
       "       real    predict      error\n",
       "0     13.08   4.040982   9.039018\n",
       "1     29.91  22.630503   7.279497\n",
       "2     23.84   7.490557  16.349443\n",
       "3      6.64   2.593899   4.046101\n",
       "4     72.28  18.486149  53.793851\n",
       "...     ...        ...        ...\n",
       "5415   4.74   3.970906   0.769094\n",
       "5416   3.76   4.111771   0.351771\n",
       "5417   1.40   1.131997   0.268003\n",
       "5418   0.82   0.624229   0.195771\n",
       "5419   5.77   5.653449   0.116551\n",
       "\n",
       "[5420 rows x 3 columns]"
      ]
     },
     "execution_count": 56,
     "metadata": {},
     "output_type": "execute_result"
    }
   ],
   "source": [
    "df"
   ]
  },
  {
   "cell_type": "code",
   "execution_count": 57,
   "metadata": {},
   "outputs": [
    {
     "data": {
      "text/plain": [
       "count    5420.000000\n",
       "mean        1.839581\n",
       "std        21.576806\n",
       "min         0.000217\n",
       "25%         0.122220\n",
       "50%         0.439811\n",
       "75%         1.342425\n",
       "max      1442.927000\n",
       "Name: error, dtype: float64"
      ]
     },
     "execution_count": 57,
     "metadata": {},
     "output_type": "execute_result"
    }
   ],
   "source": [
    "df['error'].describe()"
   ]
  },
  {
   "cell_type": "code",
   "execution_count": 52,
   "metadata": {},
   "outputs": [
    {
     "data": {
      "text/plain": [
       "inf             19\n",
       "1.618446e+04     2\n",
       "1.733778e+01     2\n",
       "2.300579e+02     1\n",
       "4.959547e+01     1\n",
       "                ..\n",
       "1.542883e+01     1\n",
       "6.936364e+01     1\n",
       "3.325956e+01     1\n",
       "2.894872e+01     1\n",
       "2.019948e+00     1\n",
       "Name: error, Length: 5400, dtype: int64"
      ]
     },
     "execution_count": 52,
     "metadata": {},
     "output_type": "execute_result"
    }
   ],
   "source": [
    "df['error'].value_counts(dropna=False)"
   ]
  },
  {
   "cell_type": "code",
   "execution_count": 53,
   "metadata": {},
   "outputs": [],
   "source": [
    "df.to_csv('test.csv')"
   ]
  },
  {
   "cell_type": "code",
   "execution_count": 3,
   "metadata": {},
   "outputs": [],
   "source": [
    "import pandas as pd\n",
    "import numpy as np\n",
    "\n",
    "df = pd.read_csv('../csv2_/big_data.csv')\n",
    "\n",
    "a = df['hit rate'].to_numpy()\n",
    "b = a.reshape(-1,1)\n",
    "scaler = StandardScaler()\n",
    "scaler.fit(b)\n",
    "c = scaler.transform(b)\n",
    "\n",
    "df['hit rate'] = c\n",
    "\n",
    "df.to_csv('../csv2_/big_data2.csv', index=False)"
   ]
  },
  {
   "cell_type": "code",
   "execution_count": 43,
   "metadata": {},
   "outputs": [],
   "source": [
    "df = pd.read_csv('../csv2_/big_data.csv')\n",
    "\n",
    "df = df.sort_values('hit rate', ascending=False)\n",
    "df = df.drop(index=[0,1,2,3], axis=0)\n",
    "df = df.reset_index(drop=True)\n",
    "\n",
    "a = df['hit rate'].to_numpy()\n",
    "b = a.reshape(-1,1)\n",
    "\n",
    "scaler = StandardScaler()\n",
    "scaler.fit(b)\n",
    "c = scaler.transform(b)\n",
    "\n",
    "scaler2 = RobustScaler()\n",
    "scaler2.fit(b)\n",
    "d = scaler2.transform(b)\n",
    "\n",
    "scaler3 = MinMaxScaler()\n",
    "scaler3.fit(b)\n",
    "e = scaler3.transform(b)\n",
    "\n",
    "df['zscore'] = c\n",
    "df['robust'] = d\n",
    "df['minmax'] = e\n",
    "df.to_csv('../csv2_/big_data_nm.csv')\n",
    "\n"
   ]
  },
  {
   "cell_type": "code",
   "execution_count": null,
   "metadata": {},
   "outputs": [],
   "source": []
  }
 ],
 "metadata": {
  "interpreter": {
   "hash": "8f94479b2a08171ba1828a63de5ca55087d6de5ec124e7074b926f1ca5296e10"
  },
  "kernelspec": {
   "display_name": "Python 3.9.7 64-bit",
   "name": "python3"
  },
  "language_info": {
   "codemirror_mode": {
    "name": "ipython",
    "version": 3
   },
   "file_extension": ".py",
   "mimetype": "text/x-python",
   "name": "python",
   "nbconvert_exporter": "python",
   "pygments_lexer": "ipython3",
   "version": "3.9.7"
  },
  "orig_nbformat": 4
 },
 "nbformat": 4,
 "nbformat_minor": 2
}
