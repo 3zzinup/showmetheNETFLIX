{
 "cells": [
  {
   "cell_type": "code",
   "execution_count": null,
   "source": [
    "# 네이버 검색 API 서비스"
   ],
   "outputs": [],
   "metadata": {}
  },
  {
   "cell_type": "code",
   "execution_count": 6,
   "source": [
    "import os\r\n",
    "import sys\r\n",
    "import urllib.request\r\n",
    "import pandas as pd\r\n",
    "import json\r\n",
    "import re\r\n",
    "\r\n",
    "client_id = \"QLp09VOgdjmFi6J0QHPZ\"\r\n",
    "client_secret = \"GRF88BMtYM\"\r\n",
    "input_data = input(\"검색 질의: \")\r\n",
    "query = urllib.parse.quote(input_data)\r\n",
    "idx = 0\r\n",
    "display = 100\r\n",
    "start = 1\r\n",
    "end = 1000\r\n",
    "\r\n",
    "web_df = pd.DataFrame(columns=['Title'])\r\n",
    "\r\n",
    "for start_index in range(start, end, display):\r\n",
    "    url = \"https://openapi.naver.com/v1/search/webkr?query=\" + query \\\r\n",
    "        + \"&display=\" + str(display) \\\r\n",
    "            + \"&start=\" + str(start_index)\r\n",
    "\r\n",
    "    request = urllib.request.Request(url)\r\n",
    "    request.add_header(\"X-Naver-Client-Id\",client_id)\r\n",
    "    request.add_header(\"X-Naver-Client-Secret\",client_secret)\r\n",
    "    response = urllib.request.urlopen(request)\r\n",
    "    rescode = response.getcode()\r\n",
    "    # 응답받을때\r\n",
    "    if(rescode==200):\r\n",
    "        response_body = response.read()\r\n",
    "        response_dict = json.loads(response_body.decode('utf-8'))\r\n",
    "        items = response_dict['items']\r\n",
    "        for item_index in range(0, len(items)):\r\n",
    "            remove_tag = re.compile('<.*?>')\r\n",
    "            title = re.sub(remove_tag, '', items[item_index]['title'])\r\n",
    "            # link = items[item_index]['link']\r\n",
    "            # description = re.sub(remove_tag, '', items[item_index]['description'])\r\n",
    "            web_df.loc[idx] = [title]\r\n",
    "            idx += 1\r\n",
    "    else:\r\n",
    "        print(\"Error Code:\" + rescode)\r\n",
    "\r\n",
    "web_df.to_csv('title.txt',sep='\\t',index=False)"
   ],
   "outputs": [],
   "metadata": {}
  },
  {
   "cell_type": "code",
   "execution_count": 13,
   "source": [
    "import time\r\n",
    "import random\r\n",
    "import requests\r\n",
    "import pandas as pd\r\n",
    "import signaturehelper\r\n",
    "\r\n",
    "def get_header(method, uri, api_key, secret_key, customer_id):\r\n",
    "    timestamp = str(round(time.time() * 1000))\r\n",
    "    signature = signaturehelper.Signature.generate(timestamp, method, uri, SECRET_KEY)\r\n",
    "    return {'Content-Type': 'application/json; charset=UTF-8', \r\n",
    "            'X-Timestamp': timestamp, 'X-API-KEY': API_KEY, \r\n",
    "            'X-Customer': str(CUSTOMER_ID), 'X-Signature': signature}\r\n",
    "\r\n",
    "BASE_URL = 'https://api.naver.com'\r\n",
    "API_KEY = '0100000000412fe7ec7b54506df13f3000c2a1ba1cca156095ae0ad5f4d7466058628e8149'\r\n",
    "SECRET_KEY = 'AQAAAABBL+fse1RQbfE/MADCobocpcZt7CZZqYIlnXl69WhkYw=='\r\n",
    "CUSTOMER_ID = '2363828'\r\n",
    "\r\n",
    "with open('title.txt','r',encoding='utf-8') as f:\r\n",
    "    uri = '/keywordstool'\r\n",
    "    method = 'GET'\r\n",
    "    lines = f.readlines()\r\n",
    "    for line in lines:\r\n",
    "        r = requests.get(BASE_URL + uri+'?hintKeywords={}&showDetail=1'.format(line),\r\n",
    "                        headers=get_header(method, uri, API_KEY, SECRET_KEY, CUSTOMER_ID))\r\n",
    "\r\n",
    "        df=pd.DataFrame(r.json()['keywordList'])\r\n",
    "        df.rename({'compIdx':'경쟁정도',\r\n",
    "                'monthlyAveMobileClkCnt':'월평균클릭수_모바일',\r\n",
    "                'monthlyAveMobileCtr':'월평균클릭률_모바일',\r\n",
    "                'monthlyAvePcClkCnt':'월평균클릭수_PC',\r\n",
    "                'monthlyAvePcCtr':'월평균클릭률_PC', \r\n",
    "                'monthlyMobileQcCnt':'월간검색수_모바일',\r\n",
    "                'monthlyPcQcCnt': '월간검색수_PC',\r\n",
    "                'plAvgDepth':'월평균노출광고수', \r\n",
    "                'relKeyword':'연관키워드'},axis=1,inplace=True)\r\n",
    "        df=df[['연관키워드', '월간검색수_PC', '월간검색수_모바일',\r\n",
    "            '월평균클릭수_PC','월평균클릭수_모바일', \r\n",
    "            '월평균클릭률_PC','월평균클릭률_모바일',\r\n",
    "                '경쟁정도','월평균노출광고수']]\r\n",
    "df.head()"
   ],
   "outputs": [
    {
     "output_type": "error",
     "ename": "KeyError",
     "evalue": "'keywordList'",
     "traceback": [
      "\u001b[1;31m---------------------------------------------------------------------------\u001b[0m",
      "\u001b[1;31mKeyError\u001b[0m                                  Traceback (most recent call last)",
      "\u001b[1;32m~\\AppData\\Local\\Temp/ipykernel_42044/1344479225.py\u001b[0m in \u001b[0;36m<module>\u001b[1;34m\u001b[0m\n\u001b[0;32m     25\u001b[0m                         headers=get_header(method, uri, API_KEY, SECRET_KEY, CUSTOMER_ID))\n\u001b[0;32m     26\u001b[0m \u001b[1;33m\u001b[0m\u001b[0m\n\u001b[1;32m---> 27\u001b[1;33m         \u001b[0mdf\u001b[0m\u001b[1;33m=\u001b[0m\u001b[0mpd\u001b[0m\u001b[1;33m.\u001b[0m\u001b[0mDataFrame\u001b[0m\u001b[1;33m(\u001b[0m\u001b[0mr\u001b[0m\u001b[1;33m.\u001b[0m\u001b[0mjson\u001b[0m\u001b[1;33m(\u001b[0m\u001b[1;33m)\u001b[0m\u001b[1;33m[\u001b[0m\u001b[1;34m'keywordList'\u001b[0m\u001b[1;33m]\u001b[0m\u001b[1;33m)\u001b[0m\u001b[1;33m\u001b[0m\u001b[1;33m\u001b[0m\u001b[0m\n\u001b[0m\u001b[0;32m     28\u001b[0m         df.rename({'compIdx':'경쟁정도',\n\u001b[0;32m     29\u001b[0m                 \u001b[1;34m'monthlyAveMobileClkCnt'\u001b[0m\u001b[1;33m:\u001b[0m\u001b[1;34m'월평균클릭수_모바일'\u001b[0m\u001b[1;33m,\u001b[0m\u001b[1;33m\u001b[0m\u001b[1;33m\u001b[0m\u001b[0m\n",
      "\u001b[1;31mKeyError\u001b[0m: 'keywordList'"
     ]
    }
   ],
   "metadata": {}
  },
  {
   "cell_type": "code",
   "execution_count": 9,
   "source": [
    "with open('title.txt','r',encoding='utf-8') as f:\r\n",
    "    uri = '/keywordstool'\r\n",
    "    method = 'GET'\r\n",
    "    lines = f.readlines()\r\n",
    "    for line in lines:\r\n",
    "        r = requests.get(BASE_URL + uri+'?hintKeywords={}&showDetail=1'.format(line),\r\n",
    "                        headers=get_header(method, uri, API_KEY, SECRET_KEY, CUSTOMER_ID))\r\n",
    "\r\n",
    "        df=pd.DataFrame(r.json()['keywordList'])\r\n",
    "        df.rename({'compIdx':'경쟁정도',\r\n",
    "                'monthlyAveMobileClkCnt':'월평균클릭수_모바일',\r\n",
    "                'monthlyAveMobileCtr':'월평균클릭률_모바일',\r\n",
    "                'monthlyAvePcClkCnt':'월평균클릭수_PC',\r\n",
    "                'monthlyAvePcCtr':'월평균클릭률_PC', \r\n",
    "                'monthlyMobileQcCnt':'월간검색수_모바일',\r\n",
    "                'monthlyPcQcCnt': '월간검색수_PC',\r\n",
    "                'plAvgDepth':'월평균노출광고수', \r\n",
    "                'relKeyword':'연관키워드'},axis=1,inplace=True)\r\n",
    "        df=df[['연관키워드', '월간검색수_PC', '월간검색수_모바일',\r\n",
    "            '월평균클릭수_PC','월평균클릭수_모바일', \r\n",
    "            '월평균클릭률_PC','월평균클릭률_모바일',\r\n",
    "                '경쟁정도','월평균노출광고수']]\r\n",
    "df.head()"
   ],
   "outputs": [
    {
     "output_type": "error",
     "ename": "KeyError",
     "evalue": "'keywordList'",
     "traceback": [
      "\u001b[1;31m---------------------------------------------------------------------------\u001b[0m",
      "\u001b[1;31mKeyError\u001b[0m                                  Traceback (most recent call last)",
      "\u001b[1;32m~\\AppData\\Local\\Temp/ipykernel_42044/1828492200.py\u001b[0m in \u001b[0;36m<module>\u001b[1;34m\u001b[0m\n\u001b[0;32m      7\u001b[0m                         headers=get_header(method, uri, API_KEY, SECRET_KEY, CUSTOMER_ID))\n\u001b[0;32m      8\u001b[0m \u001b[1;33m\u001b[0m\u001b[0m\n\u001b[1;32m----> 9\u001b[1;33m         \u001b[0mdf\u001b[0m\u001b[1;33m=\u001b[0m\u001b[0mpd\u001b[0m\u001b[1;33m.\u001b[0m\u001b[0mDataFrame\u001b[0m\u001b[1;33m(\u001b[0m\u001b[0mr\u001b[0m\u001b[1;33m.\u001b[0m\u001b[0mjson\u001b[0m\u001b[1;33m(\u001b[0m\u001b[1;33m)\u001b[0m\u001b[1;33m[\u001b[0m\u001b[1;34m'keywordList'\u001b[0m\u001b[1;33m]\u001b[0m\u001b[1;33m)\u001b[0m\u001b[1;33m\u001b[0m\u001b[1;33m\u001b[0m\u001b[0m\n\u001b[0m\u001b[0;32m     10\u001b[0m         df.rename({'compIdx':'경쟁정도',\n\u001b[0;32m     11\u001b[0m                 \u001b[1;34m'monthlyAveMobileClkCnt'\u001b[0m\u001b[1;33m:\u001b[0m\u001b[1;34m'월평균클릭수_모바일'\u001b[0m\u001b[1;33m,\u001b[0m\u001b[1;33m\u001b[0m\u001b[1;33m\u001b[0m\u001b[0m\n",
      "\u001b[1;31mKeyError\u001b[0m: 'keywordList'"
     ]
    }
   ],
   "metadata": {}
  },
  {
   "cell_type": "code",
   "execution_count": null,
   "source": [],
   "outputs": [],
   "metadata": {}
  }
 ],
 "metadata": {
  "orig_nbformat": 4,
  "language_info": {
   "name": "python",
   "version": "3.9.7",
   "mimetype": "text/x-python",
   "codemirror_mode": {
    "name": "ipython",
    "version": 3
   },
   "pygments_lexer": "ipython3",
   "nbconvert_exporter": "python",
   "file_extension": ".py"
  },
  "kernelspec": {
   "name": "python3",
   "display_name": "Python 3.9.7 64-bit"
  },
  "interpreter": {
   "hash": "8f94479b2a08171ba1828a63de5ca55087d6de5ec124e7074b926f1ca5296e10"
  }
 },
 "nbformat": 4,
 "nbformat_minor": 2
}